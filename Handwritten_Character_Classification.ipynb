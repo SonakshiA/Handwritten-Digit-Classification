{
  "nbformat": 4,
  "nbformat_minor": 0,
  "metadata": {
    "colab": {
      "provenance": [],
      "authorship_tag": "ABX9TyOhoXPGv/tgOgXqrPBxEWRo",
      "include_colab_link": true
    },
    "kernelspec": {
      "name": "python3",
      "display_name": "Python 3"
    },
    "language_info": {
      "name": "python"
    }
  },
  "cells": [
    {
      "cell_type": "markdown",
      "metadata": {
        "id": "view-in-github",
        "colab_type": "text"
      },
      "source": [
        "<a href=\"https://colab.research.google.com/github/SonakshiA/Handwritten-Digit-Classification/blob/main/Handwritten_Character_Classification.ipynb\" target=\"_parent\"><img src=\"https://colab.research.google.com/assets/colab-badge.svg\" alt=\"Open In Colab\"/></a>"
      ]
    },
    {
      "cell_type": "code",
      "execution_count": 3,
      "metadata": {
        "id": "r6auiIGAPu_J"
      },
      "outputs": [],
      "source": [
        "import numpy as np\n",
        "import pandas as pd\n",
        "import matplotlib.pyplot as plt\n",
        "import random\n",
        "import tensorflow as tf\n",
        "from tensorflow.keras import datasets, layers, models\n",
        "import tensorflow_datasets as tfds"
      ]
    },
    {
      "cell_type": "markdown",
      "source": [
        "Citation\n",
        "\n",
        "@article{lecun2010mnist,\n",
        "  title={MNIST handwritten digit database},\n",
        "  author={LeCun, Yann and Cortes, Corinna and Burges, CJ},\n",
        "  journal={ATT Labs [Online]. Available: http://yann.lecun.com/exdb/mnist},\n",
        "  volume={2},\n",
        "  year={2010}\n",
        "}"
      ],
      "metadata": {
        "id": "dosqUXD7ROsK"
      }
    },
    {
      "cell_type": "code",
      "source": [
        "(xtrain, ytrain), (xtest, ytest) = tf.keras.datasets.mnist.load_data()"
      ],
      "metadata": {
        "id": "WWn2VFzhSN2N"
      },
      "execution_count": 26,
      "outputs": []
    },
    {
      "cell_type": "code",
      "source": [
        "for i in range(9):\n",
        "  ax = plt.subplot(3,3,i+1) #rows, columns and label\n",
        "  plt.imshow(xtrain[i], cmap = plt.get_cmap('gray'))\n",
        "  plt.title(\"Number {}\".format(ytrain[i]))\n",
        "  plt.axis('off')"
      ],
      "metadata": {
        "colab": {
          "base_uri": "https://localhost:8080/",
          "height": 428
        },
        "id": "nusKs19qjQrr",
        "outputId": "e3ab37c2-0852-42d7-ff63-31646b413e6e"
      },
      "execution_count": 27,
      "outputs": [
        {
          "output_type": "display_data",
          "data": {
            "text/plain": [
              "<Figure size 640x480 with 9 Axes>"
            ],
            "image/png": "[encoded data removed]"
          },
          "metadata": {}
        }
      ]
    },
    {
      "cell_type": "markdown",
      "source": [
        "#**One Hot Encoding the Labels**"
      ],
      "metadata": {
        "id": "MnJWldn4DY53"
      }
    },
    {
      "cell_type": "code",
      "source": [
        "\n",
        "ytrain = tf.keras.utils.to_categorical(ytrain)\n",
        "ytest = tf.keras.utils.to_categorical(ytest)"
      ],
      "metadata": {
        "id": "53y5BBhur-PZ"
      },
      "execution_count": 30,
      "outputs": []
    },
    {
      "cell_type": "code",
      "source": [
        "rows,cols=28,28\n",
        "xtrain = xtrain.reshape(xtrain.shape[0],rows,cols,1)\n",
        "xtest = xtest.reshape(xtest.shape[0],rows,cols,1)\n",
        "inpx = (rows,cols,1)\n",
        "xtrain = xtrain.astype('float32')\n",
        "xtest = xtest.astype('float32')\n",
        "xtrain/=255.0\n",
        "xtest/=255.0\n",
        "print(xtrain.shape)\n",
        "print(xtest.shape)"
      ],
      "metadata": {
        "colab": {
          "base_uri": "https://localhost:8080/"
        },
        "id": "nXFudBeqrDkI",
        "outputId": "0238a371-d940-451f-9a5b-d08fe32ec320"
      },
      "execution_count": 29,
      "outputs": [
        {
          "output_type": "stream",
          "name": "stdout",
          "text": [
            "(60000, 28, 28, 1)\n",
            "(10000, 28, 28, 1)\n"
          ]
        }
      ]
    },
    {
      "cell_type": "markdown",
      "source": [
        "##**Neural Network Implementation**"
      ],
      "metadata": {
        "id": "dKZ0FqvaYyHq"
      }
    },
    {
      "cell_type": "code",
      "source": [
        "model = models.Sequential()\n",
        "model.add(layers.Conv2D(128,(3,3),activation='relu'))\n",
        "model.add(layers.MaxPooling2D(2,2))\n",
        "model.add(layers.Dropout(0.5))\n",
        "model.add(layers.Conv2D(64,(3,3),activation='relu'))\n",
        "model.add(layers.MaxPooling2D(2,2))\n",
        "model.add(layers.Dropout(0.5))\n",
        "model.add(layers.Conv2D(64,(3,3),activation='relu'))\n",
        "model.add(layers.Flatten())\n",
        "model.add(layers.Dense(128,activation='relu')) #Dense(128) is a fully connected layer\n",
        "model.add(layers.Dense(10,activation='softmax'))"
      ],
      "metadata": {
        "id": "VdzhEK8WckP1"
      },
      "execution_count": 37,
      "outputs": []
    },
    {
      "cell_type": "code",
      "source": [
        "model.compile(optimizer = tf.keras.optimizers.Adam(0.001),loss=tf.keras.losses.categorical_crossentropy,metrics=['accuracy'])\n",
        "#optimizer: tool to help us adjust the different weights to get minimum loss\n",
        "#from_logits = True signifies the values of the loss obtained by the model are not normalized i.e not between 0 and 1"
      ],
      "metadata": {
        "id": "UhJC2vHHcqPU"
      },
      "execution_count": 39,
      "outputs": []
    },
    {
      "cell_type": "code",
      "source": [
        "model.fit(xtrain,ytrain,epochs=10,batch_size=16)"
      ],
      "metadata": {
        "colab": {
          "base_uri": "https://localhost:8080/"
        },
        "id": "p4exNnl50qQs",
        "outputId": "27f5b684-5613-4008-84a6-a3c171facd65"
      },
      "execution_count": 40,
      "outputs": [
        {
          "output_type": "stream",
          "name": "stdout",
          "text": [
            "Epoch 1/10\n",
            "3750/3750 [==============================] - 180s 48ms/step - loss: 0.1782 - accuracy: 0.9432\n",
            "Epoch 2/10\n",
            "3750/3750 [==============================] - 176s 47ms/step - loss: 0.0757 - accuracy: 0.9767\n",
            "Epoch 3/10\n",
            "3750/3750 [==============================] - 175s 47ms/step - loss: 0.0634 - accuracy: 0.9798\n",
            "Epoch 4/10\n",
            "3750/3750 [==============================] - 175s 47ms/step - loss: 0.0551 - accuracy: 0.9827\n",
            "Epoch 5/10\n",
            "3750/3750 [==============================] - 172s 46ms/step - loss: 0.0508 - accuracy: 0.9847\n",
            "Epoch 6/10\n",
            "3750/3750 [==============================] - 177s 47ms/step - loss: 0.0488 - accuracy: 0.9852\n",
            "Epoch 7/10\n",
            "3750/3750 [==============================] - 174s 46ms/step - loss: 0.0464 - accuracy: 0.9855\n",
            "Epoch 8/10\n",
            "3750/3750 [==============================] - 176s 47ms/step - loss: 0.0428 - accuracy: 0.9871\n",
            "Epoch 9/10\n",
            "3750/3750 [==============================] - 178s 47ms/step - loss: 0.0428 - accuracy: 0.9875\n",
            "Epoch 10/10\n",
            "3750/3750 [==============================] - 172s 46ms/step - loss: 0.0414 - accuracy: 0.9873\n"
          ]
        },
        {
          "output_type": "execute_result",
          "data": {
            "text/plain": [
              "<keras.src.callbacks.History at 0x7f3e94e7d330>"
            ]
          },
          "metadata": {},
          "execution_count": 40
        }
      ]
    },
    {
      "cell_type": "markdown",
      "source": [
        "#**Accuracy**"
      ],
      "metadata": {
        "id": "gzVlmy9uDTMN"
      }
    },
    {
      "cell_type": "code",
      "source": [
        "score = model.evaluate(xtest, ytest)\n",
        "print('Test accuracy:', score[1])"
      ],
      "metadata": {
        "colab": {
          "base_uri": "https://localhost:8080/"
        },
        "id": "HXUH33ACDKR2",
        "outputId": "dcdf3334-e845-4cff-8474-cfd9ae3c683d"
      },
      "execution_count": 92,
      "outputs": [
        {
          "output_type": "stream",
          "name": "stdout",
          "text": [
            "313/313 [==============================] - 8s 25ms/step - loss: 0.0292 - accuracy: 0.9908\n",
            "Test accuracy: 0.9908000230789185\n"
          ]
        }
      ]
    },
    {
      "cell_type": "markdown",
      "source": [
        "#**Making Predictions**"
      ],
      "metadata": {
        "id": "Ogp54muqDCYT"
      }
    },
    {
      "cell_type": "code",
      "source": [
        "predictions = model.predict(xtest)"
      ],
      "metadata": {
        "colab": {
          "base_uri": "https://localhost:8080/"
        },
        "id": "7MolhCNc_7QS",
        "outputId": "86b27d17-1c38-43f1-be8f-1767712ae597"
      },
      "execution_count": 89,
      "outputs": [
        {
          "output_type": "stream",
          "name": "stdout",
          "text": [
            "313/313 [==============================] - 6s 20ms/step\n"
          ]
        }
      ]
    },
    {
      "cell_type": "code",
      "source": [
        "labels = ['0','1','2','3','4','5','6','7','8','9']\n",
        "results = np.argmax(predictions,axis = 1)\n",
        "print(results)"
      ],
      "metadata": {
        "colab": {
          "base_uri": "https://localhost:8080/"
        },
        "id": "P8K87xTuBZ1x",
        "outputId": "0e31bb84-bbdc-4932-9f85-3afdbd1b2c3b"
      },
      "execution_count": 90,
      "outputs": [
        {
          "output_type": "stream",
          "name": "stdout",
          "text": [
            "[7 2 1 ... 4 5 6]\n"
          ]
        }
      ]
    },
    {
      "cell_type": "code",
      "source": [
        "plt.figure(figsize=(10,10))\n",
        "for i in range(9):\n",
        "  ax = plt.subplot(3,3,i+1) #rows, columns and label\n",
        "  plt.imshow(xtest[i],cmap = plt.get_cmap('gray'))\n",
        "  plt.title(results[i])"
      ],
      "metadata": {
        "colab": {
          "base_uri": "https://localhost:8080/",
          "height": 853
        },
        "id": "9kbtF5rhBk5P",
        "outputId": "c43a8964-386d-4db2-a9e6-af8aa30ed94d"
      },
      "execution_count": 91,
      "outputs": [
        {
          "output_type": "display_data",
          "data": {
            "text/plain": [
              "<Figure size 1000x1000 with 9 Axes>"
            ],
            "image/png": "[encoded data removed]"
          },
          "metadata": {}
        }
      ]
    }
  ]
}